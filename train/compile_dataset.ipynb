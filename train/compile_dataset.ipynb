{
 "cells": [
  {
   "cell_type": "code",
   "execution_count": null,
   "metadata": {},
   "outputs": [],
   "source": [
    "from pathlib import Path\n",
    "import numpy as np\n",
    "from PIL import Image\n",
    "from natsort import natsorted\n",
    "\n",
    "import matplotlib as mpl\n",
    "mpl.use('Qt5Agg')\n",
    "import matplotlib.pyplot as plt\n",
    "\n",
    "from tqdm import tqdm\n",
    "\n",
    "one_channel_ok = True\n",
    "\n",
    "dir_hi = Path(r'datasets/REDS/train_sharp')\n",
    "dir_lo = Path(r'datasets/REDS/train_sharp_bicubic/train/train_sharp_bicubic/X4')\n",
    "\n",
    "if one_channel_ok:\n",
    "    out_dir_hi = Path(r'datasets/REDS/train_sharp_mono_1ch')\n",
    "    out_dir_lo = Path(r'datasets/REDS/train_sharp_mono_1ch_bicubic/train/train_sharp_bicubic/X4')\n",
    "else:\n",
    "    out_dir_hi = Path(r'datasets/REDS/train_sharp_mono')\n",
    "    out_dir_lo = Path(r'datasets/REDS/train_sharp_mono_bicubic/train/train_sharp_bicubic/X4')\n",
    "\n",
    "cases_hi = natsorted(list(dir_hi.glob('*')))\n",
    "for case_hi in tqdm(cases_hi):\n",
    "    #print(case_hi.stem)\n",
    "    files_hi = natsorted(list(case_hi.glob('*.png')))\n",
    "\n",
    "    out_case_hi = out_dir_hi / case_hi.stem\n",
    "    Path(out_case_hi).mkdir(exist_ok=True,parents=True)\n",
    "    out_case_lo = out_dir_lo / case_hi.stem\n",
    "    Path(out_case_lo).mkdir(exist_ok=True,parents=True)\n",
    "    for file_hi in files_hi:\n",
    "        img_hi = Image.open(file_hi).convert('L')\n",
    "        img_lo = Image.open(dir_lo / case_hi.stem / file_hi.name).convert('L')\n",
    "        if one_channel_ok:\n",
    "            pass\n",
    "        else:\n",
    "            img_hi = np.array(img_hi)\n",
    "            img_lo = np.array(img_lo)\n",
    "            img_hi = Image.fromarray(np.concatenate([img_hi[:,:,None],img_hi[:,:,None],img_hi[:,:,None]],axis=2))\n",
    "            img_lo = Image.fromarray(np.concatenate([img_lo[:,:,None],img_lo[:,:,None],img_lo[:,:,None]],axis=2))\n",
    "        #fig,ax = plt.subplots(1,2)\n",
    "        #ax[0].imshow(img_hi)\n",
    "        #ax[1].imshow(img_lo)\n",
    "        img_hi.save(out_case_hi / file_hi.name)\n",
    "        img_lo.save(out_case_lo / file_hi.name)"
   ]
  }
 ],
 "metadata": {
  "kernelspec": {
   "display_name": "Python 3",
   "language": "python",
   "name": "python3"
  },
  "language_info": {
   "name": "python",
   "version": "3.11.7"
  }
 },
 "nbformat": 4,
 "nbformat_minor": 2
}
